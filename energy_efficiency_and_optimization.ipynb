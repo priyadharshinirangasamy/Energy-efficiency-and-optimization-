{
  "nbformat": 4,
  "nbformat_minor": 0,
  "metadata": {
    "colab": {
      "provenance": [],
      "authorship_tag": "ABX9TyNJB8Qv4wI1ZAK174X8dgzq",
      "include_colab_link": true
    },
    "kernelspec": {
      "name": "python3",
      "display_name": "Python 3"
    },
    "language_info": {
      "name": "python"
    }
  },
  "cells": [
    {
      "cell_type": "markdown",
      "metadata": {
        "id": "view-in-github",
        "colab_type": "text"
      },
      "source": [
        "<a href=\"https://colab.research.google.com/github/priyadharshinirangasamy/Energy-efficiency-and-optimization-/blob/main/energy_efficiency_and_optimization.ipynb\" target=\"_parent\"><img src=\"https://colab.research.google.com/assets/colab-badge.svg\" alt=\"Open In Colab\"/></a>"
      ]
    },
    {
      "cell_type": "code",
      "execution_count": null,
      "metadata": {
        "id": "OQtA5-2wmuW2"
      },
      "outputs": [],
      "source": [
        "# energy_efficiency_system.py\n",
        "\n",
        "import pandas as pd\n",
        "import numpy as np\n",
        "from sklearn.linear_model import LinearRegression\n",
        "from flask import Flask, request, jsonify\n",
        "import threading\n",
        "import time\n",
        "import random\n",
        "import requests\n",
        "import joblib\n",
        "import os\n",
        "\n",
        "# 1. Generate sample energy dataset\n",
        "def create_sample_data():\n",
        "    np.random.seed(42)\n",
        "    temperature = np.random.uniform(15, 35, 500)\n",
        "    hour = np.random.randint(0, 24, 500)\n",
        "    day_of_week = np.random.randint(0, 7, 500)\n",
        "    # Energy = Base + temp_effect + time_effect + noise\n",
        "    energy = 50 + (temperature * 1.2) + (hour * 0.8) + (day_of_week * 2) + np.random.normal(0, 5, 500)\n",
        "\n",
        "    df = pd.DataFrame({\n",
        "        'temperature': temperature,\n",
        "        'hour': hour,\n",
        "        'day_of_week': day_of_week,\n",
        "        'energy_consumption': energy\n",
        "    })\n",
        "    df.to_csv('energy_data.csv', index=False)\n",
        "\n",
        "# 2. Train and save the model\n",
        "def train_model():\n",
        "    data = pd.read_csv('energy_data.csv')\n",
        "    X = data[['temperature', 'hour', 'day_of_week']]\n",
        "    y = data['energy_consumption']\n",
        "    model = LinearRegression()\n",
        "    model.fit(X, y)\n",
        "    joblib.dump(model, 'energy_predictor.pkl')\n",
        "\n",
        "# 3. Flask API for real-time prediction\n",
        "app = Flask(__name__)\n",
        "model = None\n",
        "\n",
        "@app.route('/predict', methods=['POST'])\n",
        "def predict():\n",
        "    global model\n",
        "    content = request.json\n",
        "    features = np.array([[content['temperature'], content['hour'], content['day_of_week']]])\n",
        "    prediction = model.predict(features)\n",
        "    return jsonify({'predicted_energy': round(prediction[0], 2)})\n",
        "\n",
        "# 4. Simulated IoT device sending data to the API\n",
        "def simulate_iot_device():\n",
        "    time.sleep(5)  # Wait for server to start\n",
        "    print(\"\\n--- Simulated IoT Device Output ---\\n\")\n",
        "    for i in range(5):  # Simulate 5 readings\n",
        "        data = {\n",
        "            'temperature': round(random.uniform(20.0, 35.0), 2),\n",
        "            'hour': time.localtime().tm_hour,\n",
        "            'day_of_week': time.localtime().tm_wday\n",
        "        }\n",
        "        try:\n",
        "            response = requests.post('http://127.0.0.1:5000/predict', json=data)\n",
        "            print(f\"Sent: {data} → Predicted Energy: {response.json()['predicted_energy']}\")\n",
        "        except Exception as e:\n",
        "            print(\"IoT Simulation Error:\", e)\n",
        "        time.sleep(3)\n",
        "\n",
        "# 5. Run the server and simulate IoT together\n",
        "if __name__ == '__main__':\n",
        "    if not os.path.exists('energy_data.csv'):\n",
        "        create_sample_data()\n",
        "        train_model()\n",
        "\n",
        "    model = joblib.load('energy_predictor.pkl')\n",
        "\n",
        "    # Start IoT simulation in a separate thread\n",
        "    threading.Thread(target=simulate_iot_device).start()\n",
        "\n",
        "    print(\"Starting Energy Efficiency API on http://127.0.0.1:5000\")\n",
        "    app.run(debug=False)"
      ]
    }
  ]
}